{
 "cells": [
  {
   "cell_type": "code",
   "execution_count": 1,
   "metadata": {
    "collapsed": true,
    "ExecuteTime": {
     "start_time": "2023-06-20T17:08:38.372309Z",
     "end_time": "2023-06-20T17:08:39.468915Z"
    }
   },
   "outputs": [
    {
     "name": "stdout",
     "output_type": "stream",
     "text": [
      "1920\n",
      "1920\n"
     ]
    }
   ],
   "source": [
    "import os\n",
    "import glob\n",
    "sacred_dir = \"logs\"\n",
    "parent_dir = os.getcwd()\n",
    "train_config = glob.glob(os.path.join(parent_dir, sacred_dir, \"**/*config.json\"), recursive=True)\n",
    "test_files = glob.glob(os.path.join(parent_dir, sacred_dir, \"**/test**/*config.json\"), recursive=True)\n",
    "train_config = set(train_config)-set(test_files)\n",
    "print(len(train_config))\n",
    "print(len(test_files))"
   ]
  },
  {
   "cell_type": "code",
   "execution_count": 2,
   "outputs": [
    {
     "name": "stdout",
     "output_type": "stream",
     "text": [
      "dict_keys(['qmix_uc_3_cc_True', 'qmix_uc_5_cc_True', 'qmix_uc_10_cc_True', 'qmix_uc_50_cc_True', 'qmix_uc_100_cc_True', 'qmix_c_3_cc_True', 'qmix_c_5_cc_True', 'qmix_c_10_cc_True', 'qmix_c_50_cc_True', 'qmix_c_100_cc_True', 'qmix_owf_1_cc_True', 'qmix_owf_2_cc_True', 'qmix_owf_5_cc_True', 'qmix_owf_25_cc_True', 'qmix_owf_50_cc_True', 'qvmix_uc_3_cc_True', 'qvmix_uc_5_cc_True', 'qvmix_uc_10_cc_True', 'qvmix_uc_50_cc_True', 'qvmix_uc_100_cc_True', 'qvmix_c_3_cc_True', 'qvmix_c_5_cc_True', 'qvmix_c_10_cc_True', 'qvmix_c_50_cc_True', 'qvmix_c_100_cc_True', 'qvmix_owf_1_cc_True', 'qvmix_owf_2_cc_True', 'qvmix_owf_5_cc_True', 'qvmix_owf_25_cc_True', 'qvmix_owf_50_cc_True', 'coma_uc_3_cc_True', 'coma_uc_5_cc_True', 'coma_uc_10_cc_True', 'coma_uc_50_cc_True', 'coma_uc_100_cc_True', 'coma_c_3_cc_True', 'coma_c_5_cc_True', 'coma_c_10_cc_True', 'coma_c_50_cc_True', 'coma_c_100_cc_True', 'coma_owf_1_cc_True', 'coma_owf_2_cc_True', 'coma_owf_5_cc_True', 'coma_owf_25_cc_True', 'coma_owf_50_cc_True', 'iql_uc_3_cc_True', 'iql_uc_5_cc_True', 'iql_uc_10_cc_True', 'iql_uc_50_cc_True', 'iql_uc_100_cc_True', 'iql_c_3_cc_True', 'iql_c_5_cc_True', 'iql_c_10_cc_True', 'iql_c_50_cc_True', 'iql_c_100_cc_True', 'iql_owf_1_cc_True', 'iql_owf_2_cc_True', 'iql_owf_5_cc_True', 'iql_owf_25_cc_True', 'iql_owf_50_cc_True', 'qplex_uc_3_cc_True', 'qplex_uc_5_cc_True', 'qplex_uc_10_cc_True', 'qplex_uc_50_cc_True', 'qplex_uc_100_cc_True', 'qplex_c_3_cc_True', 'qplex_c_5_cc_True', 'qplex_c_10_cc_True', 'qplex_c_50_cc_True', 'qplex_c_100_cc_True', 'qplex_owf_1_cc_True', 'qplex_owf_2_cc_True', 'qplex_owf_5_cc_True', 'qplex_owf_25_cc_True', 'qplex_owf_50_cc_True', 'dqn_uc_3_cc_True', 'dqn_uc_5_cc_True', 'dqn_uc_10_cc_True', 'dqn_uc_50_cc_True', 'dqn_uc_100_cc_True', 'dqn_c_3_cc_True', 'dqn_c_5_cc_True', 'dqn_c_10_cc_True', 'dqn_c_50_cc_True', 'dqn_c_100_cc_True', 'dqn_owf_1_cc_True', 'dqn_owf_2_cc_True', 'dqn_owf_5_cc_True', 'dqn_owf_25_cc_True', 'dqn_owf_50_cc_True', 'facmac_uc_3_cc_True', 'facmac_uc_5_cc_True', 'facmac_uc_10_cc_True', 'facmac_uc_50_cc_True', 'facmac_uc_100_cc_True', 'facmac_c_3_cc_True', 'facmac_c_5_cc_True', 'facmac_c_10_cc_True', 'facmac_c_50_cc_True', 'facmac_c_100_cc_True', 'facmac_owf_1_cc_True', 'facmac_owf_2_cc_True', 'facmac_owf_5_cc_True', 'facmac_owf_25_cc_True', 'facmac_owf_50_cc_True', 'qmix_uc_3_cc_False', 'qmix_uc_5_cc_False', 'qmix_uc_10_cc_False', 'qmix_uc_50_cc_False', 'qmix_uc_100_cc_False', 'qmix_c_3_cc_False', 'qmix_c_5_cc_False', 'qmix_c_10_cc_False', 'qmix_c_50_cc_False', 'qmix_c_100_cc_False', 'qmix_owf_1_cc_False', 'qmix_owf_2_cc_False', 'qmix_owf_5_cc_False', 'qmix_owf_25_cc_False', 'qmix_owf_50_cc_False', 'qvmix_uc_3_cc_False', 'qvmix_uc_5_cc_False', 'qvmix_uc_10_cc_False', 'qvmix_uc_50_cc_False', 'qvmix_uc_100_cc_False', 'qvmix_c_3_cc_False', 'qvmix_c_5_cc_False', 'qvmix_c_10_cc_False', 'qvmix_c_50_cc_False', 'qvmix_c_100_cc_False', 'qvmix_owf_1_cc_False', 'qvmix_owf_2_cc_False', 'qvmix_owf_5_cc_False', 'qvmix_owf_25_cc_False', 'qvmix_owf_50_cc_False', 'coma_uc_3_cc_False', 'coma_uc_5_cc_False', 'coma_uc_10_cc_False', 'coma_uc_50_cc_False', 'coma_uc_100_cc_False', 'coma_c_3_cc_False', 'coma_c_5_cc_False', 'coma_c_10_cc_False', 'coma_c_50_cc_False', 'coma_c_100_cc_False', 'coma_owf_1_cc_False', 'coma_owf_2_cc_False', 'coma_owf_5_cc_False', 'coma_owf_25_cc_False', 'coma_owf_50_cc_False', 'iql_uc_3_cc_False', 'iql_uc_5_cc_False', 'iql_uc_10_cc_False', 'iql_uc_50_cc_False', 'iql_uc_100_cc_False', 'iql_c_3_cc_False', 'iql_c_5_cc_False', 'iql_c_10_cc_False', 'iql_c_50_cc_False', 'iql_c_100_cc_False', 'iql_owf_1_cc_False', 'iql_owf_2_cc_False', 'iql_owf_5_cc_False', 'iql_owf_25_cc_False', 'iql_owf_50_cc_False', 'qplex_uc_3_cc_False', 'qplex_uc_5_cc_False', 'qplex_uc_10_cc_False', 'qplex_uc_50_cc_False', 'qplex_uc_100_cc_False', 'qplex_c_3_cc_False', 'qplex_c_5_cc_False', 'qplex_c_10_cc_False', 'qplex_c_50_cc_False', 'qplex_c_100_cc_False', 'qplex_owf_1_cc_False', 'qplex_owf_2_cc_False', 'qplex_owf_5_cc_False', 'qplex_owf_25_cc_False', 'qplex_owf_50_cc_False', 'dqn_uc_3_cc_False', 'dqn_uc_5_cc_False', 'dqn_uc_10_cc_False', 'dqn_uc_50_cc_False', 'dqn_uc_100_cc_False', 'dqn_c_3_cc_False', 'dqn_c_5_cc_False', 'dqn_c_10_cc_False', 'dqn_c_50_cc_False', 'dqn_c_100_cc_False', 'dqn_owf_1_cc_False', 'dqn_owf_2_cc_False', 'dqn_owf_5_cc_False', 'dqn_owf_25_cc_False', 'dqn_owf_50_cc_False', 'facmac_uc_3_cc_False', 'facmac_uc_5_cc_False', 'facmac_uc_10_cc_False', 'facmac_uc_50_cc_False', 'facmac_uc_100_cc_False', 'facmac_c_3_cc_False', 'facmac_c_5_cc_False', 'facmac_c_10_cc_False', 'facmac_c_50_cc_False', 'facmac_c_100_cc_False', 'facmac_owf_1_cc_False', 'facmac_owf_2_cc_False', 'facmac_owf_5_cc_False', 'facmac_owf_25_cc_False', 'facmac_owf_50_cc_False'])\n"
     ]
    }
   ],
   "source": [
    "import json\n",
    "\n",
    "def exp_name_from_file(file):\n",
    "    exp_name = os.path.basename(os.path.dirname(file))\n",
    "    exp_name = exp_name.split(\"_\")\n",
    "\n",
    "    if 'owf' in exp_name and 'dqn' in exp_name:\n",
    "        index_env = 5\n",
    "    elif \"owf\" in exp_name:\n",
    "        index_env = 4\n",
    "    else:\n",
    "        index_env = 5\n",
    "\n",
    "    if exp_name[index_env] != exp_name[2] and index_env is not 4:\n",
    "        if int(exp_name[2]) == 10 and int(exp_name[index_env]) < 10:\n",
    "            pass\n",
    "        else:\n",
    "            if not \"dqn\" in exp_name:\n",
    "                print(\"merde\")\n",
    "                print(int(exp_name[2]) == 10, int(exp_name[index_env]) < 10)\n",
    "                print(exp_name, exp_name[2], exp_name[index_env])\n",
    "    if \"cc_True\" in file:\n",
    "        exp_name = [exp_name[0], exp_name[index_env-1], exp_name[index_env], \"cc_True\"]\n",
    "    else:\n",
    "        exp_name = [exp_name[0], exp_name[index_env-1], exp_name[index_env], \"cc_False\"]\n",
    "    if exp_name[1] == \"sarl\":\n",
    "        exp_name[1]= \"owf\"\n",
    "    return exp_name\n",
    "\n",
    "def dict_results_from_json(files, method, env1, env2, cc):\n",
    "    dict_all=[]\n",
    "\n",
    "    for i in files:\n",
    "        exp_name=exp_name_from_file(i)\n",
    "\n",
    "        if cc and \"cc_True\" in i:\n",
    "            pass\n",
    "        elif not cc and (\"cc_False\" in i or \"cc\" not in i):\n",
    "            pass\n",
    "        else:\n",
    "            continue\n",
    "\n",
    "        if exp_name[0] == method and exp_name[1] == env1 and exp_name[2] == env2:\n",
    "            exp_name = \"_\".join(exp_name)\n",
    "\n",
    "            # Remove dqn too much\n",
    "            if exp_name.startswith(\"dqn\"):\n",
    "                # ignore uc/ic 10 50 100 and owf 5 25 50\n",
    "                if \"10\" in k or \"50\" in k or \"100\" in k or (\"owf\" in k and ('5' in k or '25' in k or '50' in k)):\n",
    "                    continue\n",
    "        else:\n",
    "            continue\n",
    "        try:\n",
    "            with open(i, \"r\") as file:\n",
    "                infos = json.load(file)\n",
    "                dict_exp= {}\n",
    "                dict_exp[\"name\"] = os.path.basename(os.path.dirname(i))\n",
    "                dict_exp[\"seed\"] = infos[\"seed\"]\n",
    "                dict_all.append(dict_exp)\n",
    "        except Exception as e:\n",
    "            print(\"Exception\",i, e)\n",
    "    return dict_all\n",
    "\n",
    "methods = [\"qmix\", \"qvmix\",  \"coma\", \"iql\", \"qplex\", \"dqn\", \"facmac\"]\n",
    "env1 = [\"uc\", \"c\", \"owf\"]\n",
    "env2 = {\"uc\":[\"3\", \"5\", \"10\", \"50\", \"100\" ], \"c\":[\"3\", \"5\", \"10\", \"50\", \"100\"], \"owf\":[\"1\",\"2\",\"5\",\"25\",\"50\"]}\n",
    "cc = [True, False]\n",
    "results={}\n",
    "for cc_ in cc:\n",
    "    for i in methods:\n",
    "        for j in env1:\n",
    "            for k in env2[j]:\n",
    "                exp_name = f\"{i}_{j}_{k}_cc_{cc_}\"\n",
    "                results[exp_name] = dict_results_from_json(train_config, i,j,k, cc_)\n",
    "print(results.keys())"
   ],
   "metadata": {
    "collapsed": false,
    "ExecuteTime": {
     "start_time": "2023-06-20T17:08:39.486697Z",
     "end_time": "2023-06-20T17:08:42.652888Z"
    }
   }
  },
  {
   "cell_type": "code",
   "execution_count": 3,
   "outputs": [
    {
     "name": "stdout",
     "output_type": "stream",
     "text": [
      "302946203\n",
      "132396701\n",
      "505233690\n",
      "480809709\n",
      "426355796\n",
      "608786979\n",
      "842290689\n",
      "197414500\n",
      "545849197\n",
      "850722379\n"
     ]
    }
   ],
   "source": [
    "algo = \"qmix\"\n",
    "env = \"struct_uc_10\"\n",
    "for i in results[f\"{algo}_uc_10_cc_True\"]:\n",
    "    print(i[\"seed\"])"
   ],
   "metadata": {
    "collapsed": false,
    "ExecuteTime": {
     "start_time": "2023-06-20T17:08:42.652143Z",
     "end_time": "2023-06-20T17:08:42.658335Z"
    }
   }
  }
 ],
 "metadata": {
  "kernelspec": {
   "display_name": "Python 3",
   "language": "python",
   "name": "python3"
  },
  "language_info": {
   "codemirror_mode": {
    "name": "ipython",
    "version": 2
   },
   "file_extension": ".py",
   "mimetype": "text/x-python",
   "name": "python",
   "nbconvert_exporter": "python",
   "pygments_lexer": "ipython2",
   "version": "2.7.6"
  }
 },
 "nbformat": 4,
 "nbformat_minor": 0
}
