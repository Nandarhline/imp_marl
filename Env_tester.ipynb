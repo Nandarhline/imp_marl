{
 "cells": [
  {
   "cell_type": "code",
   "execution_count": 82,
   "id": "e2418de7",
   "metadata": {},
   "outputs": [],
   "source": [
    "import numpy as np\n",
    "from struct_env.struct_env import Struct"
   ]
  },
  {
   "cell_type": "code",
   "execution_count": 83,
   "id": "5def632f",
   "metadata": {},
   "outputs": [],
   "source": [
    "config = {\"n_comp\": 1,\n",
    "          \"discount_reward\": 0.95,\n",
    "          \"k_comp\": None,\n",
    "          \"env_correlation\": False,\n",
    "          \"campaign_cost\": False}"
   ]
  },
  {
   "cell_type": "code",
   "execution_count": 84,
   "id": "a7bd1d73",
   "metadata": {},
   "outputs": [],
   "source": [
    "dtwin = Struct(config)"
   ]
  },
  {
   "cell_type": "code",
   "execution_count": 89,
   "id": "166677bf",
   "metadata": {},
   "outputs": [
    {
     "data": {
      "text/plain": [
       "{'agent_0': array([1.052000e-04, 5.500000e-05, 8.660000e-05, 1.261000e-04,\n",
       "        2.006000e-04, 3.173000e-04, 4.853000e-04, 7.444000e-04,\n",
       "        1.138400e-03, 1.783100e-03, 2.713600e-03, 4.235700e-03,\n",
       "        6.473200e-03, 1.002420e-02, 1.530330e-02, 2.316180e-02,\n",
       "        3.453640e-02, 5.087030e-02, 7.324320e-02, 1.008326e-01,\n",
       "        1.309823e-01, 1.539425e-01, 1.567708e-01, 1.275575e-01,\n",
       "        7.401660e-02, 2.583390e-02, 4.230100e-03, 2.268000e-04,\n",
       "        3.200000e-06, 0.000000e+00, 0.000000e+00])}"
      ]
     },
     "execution_count": 89,
     "metadata": {},
     "output_type": "execute_result"
    }
   ],
   "source": [
    "dtwin.reset()"
   ]
  },
  {
   "cell_type": "code",
   "execution_count": 91,
   "id": "b4531095",
   "metadata": {},
   "outputs": [
    {
     "data": {
      "text/plain": [
       "({'agent_0': array([1.19028568e-04, 6.22291634e-05, 9.79817943e-05, 1.42671341e-04,\n",
       "         2.26956985e-04, 3.58865606e-04, 5.49018973e-04, 8.41507949e-04,\n",
       "         1.28727828e-03, 2.01656492e-03, 3.06581753e-03, 4.78406667e-03,\n",
       "         7.30035488e-03, 1.12921160e-02, 1.72044359e-02, 2.59521984e-02,\n",
       "         3.85056017e-02, 5.63046784e-02, 8.02039281e-02, 1.08675127e-01,\n",
       "         1.37762172e-01, 1.56299946e-01, 1.51309384e-01, 1.14446629e-01,\n",
       "         6.01248510e-02, 1.83672410e-02, 2.57801527e-03, 1.19872066e-04,\n",
       "         1.44450078e-06, 1.63924990e-08, 3.33333333e-02])},\n",
       " {'agent_0': -1.002},\n",
       " False,\n",
       " array([0.]))"
      ]
     },
     "execution_count": 91,
     "metadata": {},
     "output_type": "execute_result"
    }
   ],
   "source": [
    "action = {}\n",
    "for i in range(1):\n",
    "    action[dtwin.agent_list[0]]=1\n",
    "dtwin.step(action)"
   ]
  },
  {
   "cell_type": "code",
   "execution_count": 92,
   "id": "0acc2728",
   "metadata": {},
   "outputs": [
    {
     "data": {
      "text/plain": [
       "-0.9625657900186592"
      ]
     },
     "execution_count": 92,
     "metadata": {},
     "output_type": "execute_result"
    }
   ],
   "source": [
    "rew_total_=0\n",
    "done_=0\n",
    "[bel_,rew_,done_,_]=dtwin.step(action)\n",
    "rew_total_+=rew_['agent_0']\n",
    "rew_total_"
   ]
  },
  {
   "cell_type": "code",
   "execution_count": null,
   "id": "244fb4d7",
   "metadata": {},
   "outputs": [],
   "source": []
  }
 ],
 "metadata": {
  "kernelspec": {
   "display_name": "Python 3 (ipykernel)",
   "language": "python",
   "name": "python3"
  },
  "language_info": {
   "codemirror_mode": {
    "name": "ipython",
    "version": 3
   },
   "file_extension": ".py",
   "mimetype": "text/x-python",
   "name": "python",
   "nbconvert_exporter": "python",
   "pygments_lexer": "ipython3",
   "version": "3.7.15"
  }
 },
 "nbformat": 4,
 "nbformat_minor": 5
}
