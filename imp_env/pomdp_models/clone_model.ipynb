{
 "cells": [
  {
   "cell_type": "code",
   "execution_count": 10,
   "metadata": {},
   "outputs": [],
   "source": [
    "import numpy as np\n",
    "dr = np.load('Owf203020_WithVM.npz')\n",
    "\n"
   ]
  },
  {
   "cell_type": "code",
   "execution_count": 13,
   "metadata": {},
   "outputs": [],
   "source": [
    "q_interv = dr['q_interv']\n",
    "d_interv = dr['d_interv']\n",
    "belief0 = dr['belief0']\n",
    "belief0_twin = dr['belief0_twin']\n",
    "belief0_eps = dr['belief0_eps']\n",
    "T0 = dr['T0']\n",
    "Tr = dr['Tr']\n",
    "T0_twin = dr['T0_twin']\n",
    "T0_twin = np.zeros(T0_twin.shape)\n",
    "T0_twin[0,:] = np.array([0, 0, 1])\n",
    "T0_twin[1,:] = np.array([0, 1, 0])\n",
    "T0_twin[2,:] = np.array([0, 0, 1])\n",
    "Tr_twin = dr['Tr_twin']\n",
    "Ts_twin = dr['Ts_twin']\n",
    "O_ins = dr['O_ins']\n",
    "O_monitor = dr['O_monitor']\n",
    "O_ins_monitor = dr['O_ins_monitor']"
   ]
  },
  {
   "cell_type": "code",
   "execution_count": 14,
   "metadata": {},
   "outputs": [],
   "source": [
    "np.savez_compressed('Owf203020_WithoutVM', q_interv=q_interv, d_interv=d_interv,\n",
    "         belief0=belief0, belief0_twin=belief0_twin, belief0_eps=belief0_eps,\n",
    "         T0=T0, Tr=Tr, \n",
    "         T0_twin=T0_twin, Tr_twin=Tr_twin, Ts_twin=Ts_twin, \n",
    "         O_ins=O_ins, O_monitor=O_monitor, O_ins_monitor=O_ins_monitor)"
   ]
  }
 ],
 "metadata": {
  "kernelspec": {
   "display_name": "marl",
   "language": "python",
   "name": "python3"
  },
  "language_info": {
   "codemirror_mode": {
    "name": "ipython",
    "version": 3
   },
   "file_extension": ".py",
   "mimetype": "text/x-python",
   "name": "python",
   "nbconvert_exporter": "python",
   "pygments_lexer": "ipython3",
   "version": "3.7.15"
  },
  "orig_nbformat": 4
 },
 "nbformat": 4,
 "nbformat_minor": 2
}
