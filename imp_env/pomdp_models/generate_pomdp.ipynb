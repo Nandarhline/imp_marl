{
 "cells": [
  {
   "cell_type": "code",
   "execution_count": null,
   "id": "6b6137b9",
   "metadata": {},
   "outputs": [],
   "source": [
    "#Importing modules\n",
    "import numpy as np\n",
    "from pomdp_new import Pomdp\n",
    "import math"
   ]
  },
  {
   "cell_type": "markdown",
   "id": "a07f531b",
   "metadata": {},
   "source": [
    "# Input data"
   ]
  },
  {
   "cell_type": "markdown",
   "id": "e81d9135",
   "metadata": {},
   "source": [
    "The input data for the damage model is introduced in the cell below.\n",
    "In this case, the model corresponds to a crack propagation law, where a crack grows over time."
   ]
  },
  {
   "cell_type": "code",
   "execution_count": null,
   "id": "c12c83f8",
   "metadata": {},
   "outputs": [],
   "source": [
    "config = {}\n",
    "\n",
    "config[\"T\"] = 30 # Finite horizon in years\n",
    "config[\"ncycles\"] = 1000000 # Number of load cycle experienced in one year\n",
    "config[\"d0_mean\"] = 1 # Initial crack size\n",
    "config[\"dcrit\"] = 20  # Critical crack size\n",
    "config[\"S_mean\"] = 70 # Stress range definition in MPa\n",
    "config[\"S_std\"] = 10 # Crack growth variable\n",
    "config[\"m\"] = 3.5 # Crack growth variable\n",
    "config[\"lnC_mean\"] = -35.2 # Crack growth variable\n",
    "config[\"lnC_std\"] = 0.5 # Crack growth variable"
   ]
  },
  {
   "cell_type": "code",
   "execution_count": null,
   "id": "278f088e",
   "metadata": {},
   "outputs": [],
   "source": [
    "config"
   ]
  },
  {
   "cell_type": "markdown",
   "id": "3555d786",
   "metadata": {},
   "source": [
    "# Simulations"
   ]
  },
  {
   "cell_type": "markdown",
   "id": "4e2de417",
   "metadata": {},
   "source": [
    "An object is loaded taking into account the previously defined damage model.\n",
    "This is done by calling the class \"Pomdp\": Pomdp(config)"
   ]
  },
  {
   "cell_type": "code",
   "execution_count": null,
   "id": "dbd02b84",
   "metadata": {},
   "outputs": [],
   "source": [
    "model_dr = Pomdp(config)"
   ]
  },
  {
   "cell_type": "markdown",
   "id": "95352476",
   "metadata": {},
   "source": [
    "The crack size distribution is propagated over time in a Monte Carlo simuation here below.\n",
    "This is done through the method crack_growth(n_samples), where the number of samples are specified.\n",
    "The output consists of crack growth results for the horizon and samples."
   ]
  },
  {
   "cell_type": "code",
   "execution_count": null,
   "id": "d34b12c6",
   "metadata": {
    "collapsed": true
   },
   "outputs": [],
   "source": [
    "n_samples = 1e6\n",
    "model_dr.crack_growth(n_samples)"
   ]
  },
  {
   "cell_type": "code",
   "execution_count": null,
   "id": "4b15b069",
   "metadata": {},
   "outputs": [],
   "source": [
    "model_dr.dd.shape"
   ]
  },
  {
   "cell_type": "markdown",
   "id": "f263b326",
   "metadata": {},
   "source": [
    "# Transition model"
   ]
  },
  {
   "cell_type": "markdown",
   "id": "61863132",
   "metadata": {},
   "source": [
    "The transition model is below constructed by calling the method transition_model().\n",
    "Note that this follows a particular discretisation scheme.\n",
    "\n",
    "The output provides: \n",
    "* Inital damage probabilities: model_dr.b0\n",
    "* Transition probabilities for a do-nothing action: model_dr.T0\n",
    "* Transition probabilities for a repair action: model_dr.Tr"
   ]
  },
  {
   "cell_type": "code",
   "execution_count": null,
   "id": "fb60f733",
   "metadata": {
    "collapsed": true
   },
   "outputs": [],
   "source": [
    "model_dr.transition_model()"
   ]
  },
  {
   "cell_type": "code",
   "execution_count": null,
   "id": "c71bff7a",
   "metadata": {},
   "outputs": [],
   "source": [
    "model_dr.b0.shape"
   ]
  },
  {
   "cell_type": "code",
   "execution_count": null,
   "id": "af50db1e",
   "metadata": {},
   "outputs": [],
   "source": [
    "model_dr.T0.shape"
   ]
  },
  {
   "cell_type": "code",
   "execution_count": null,
   "id": "c7b16d0c",
   "metadata": {},
   "outputs": [],
   "source": [
    "model_dr.Tr.shape"
   ]
  },
  {
   "cell_type": "markdown",
   "id": "1c655f1b",
   "metadata": {},
   "source": [
    "# Inspection model"
   ]
  },
  {
   "cell_type": "markdown",
   "id": "f858fc08",
   "metadata": {},
   "source": [
    "The inspection model is below constructed by calling the method observation_model(). \n",
    "Note that a specific probability of detection curve is here implemented.\n",
    "\n",
    "The output provides: \n",
    "* Inspection model: model_dr.O"
   ]
  },
  {
   "cell_type": "code",
   "execution_count": null,
   "id": "951b66ad",
   "metadata": {
    "collapsed": true
   },
   "outputs": [],
   "source": [
    "model_dr.O"
   ]
  },
  {
   "cell_type": "markdown",
   "id": "cdc84d92",
   "metadata": {},
   "source": [
    "# Storing pomdp model"
   ]
  },
  {
   "cell_type": "markdown",
   "id": "90833002",
   "metadata": {},
   "source": [
    "The transition and inspection models can be stored at the user's discretion and it is case dependent. \n",
    "The environment dynamics needs three main components:\n",
    "\n",
    "* Initial probabilities: belief0  \n",
    "* Transition probabilities: P\n",
    "* Inspection model (or/and sensor model): O"
   ]
  },
  {
   "cell_type": "code",
   "execution_count": null,
   "id": "0ceceb06",
   "metadata": {},
   "outputs": [],
   "source": [
    "# Initial probabilities\n",
    "belief0 = np.zeros((1, 10, 30, 1)) # ((empty, n_comp, damage, empty))\n",
    "belief0[0, :, :, 0] = model_dr.b0"
   ]
  },
  {
   "cell_type": "code",
   "execution_count": null,
   "id": "8179b71f",
   "metadata": {},
   "outputs": [],
   "source": [
    "# Transition model\n",
    "P = np.zeros((3, 10, 31, 30, 30)) # ((action, n_comp, d_rate, damage, damage))\n",
    "P[0, :, :, :, :] = model_dr.T0 # Do-nothing action\n",
    "P[1, :, :, :, :] = model_dr.T0 # Inspection action\n",
    "P[2, :, :, :, :] = model_dr.Tr # Repair action"
   ]
  },
  {
   "cell_type": "code",
   "execution_count": null,
   "id": "e32ff713",
   "metadata": {},
   "outputs": [],
   "source": [
    "# Inspection model\n",
    "O = np.zeros((3, 10, 30, 2)) # ((action, n_comp, damage, inspect_outcome))\n",
    "O[0, :, :, 0] = np.ones(30) # Do-nothing action\n",
    "O[1, :, :, :] = model_dr.O # Inspection action\n",
    "O[2, :, :, 0] = np.ones(30) # Repair action"
   ]
  },
  {
   "cell_type": "code",
   "execution_count": null,
   "id": "49c37d39",
   "metadata": {},
   "outputs": [],
   "source": [
    "# Store it (for instance as a numpy file)\n",
    "np.savez('pomdp_model.npz', belief0=belief0, P=P, O=O)"
   ]
  }
 ],
 "metadata": {
  "kernelspec": {
   "display_name": "Python 3 (ipykernel)",
   "language": "python",
   "name": "python3"
  },
  "language_info": {
   "codemirror_mode": {
    "name": "ipython",
    "version": 3
   },
   "file_extension": ".py",
   "mimetype": "text/x-python",
   "name": "python",
   "nbconvert_exporter": "python",
   "pygments_lexer": "ipython3",
   "version": "3.9.13"
  }
 },
 "nbformat": 4,
 "nbformat_minor": 5
}
