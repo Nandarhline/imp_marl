{
 "cells": [
  {
   "cell_type": "code",
   "execution_count": null,
   "id": "a9114cd9",
   "metadata": {},
   "outputs": [],
   "source": [
    "from struct_dbn import dynamicBN\n",
    "import scipy.stats as stats\n",
    "import numpy as np\n",
    "import math"
   ]
  },
  {
   "cell_type": "code",
   "execution_count": null,
   "id": "b9e41107",
   "metadata": {},
   "outputs": [],
   "source": [
    "# config = {\"T\": *,\n",
    "#           \"ncycles\": *,\n",
    "#           \"d0_mean\": *,\n",
    "#           \"dcrit\": *,\n",
    "#           \"q_mean\": *,\n",
    "#           \"q_cov\": *,\n",
    "#           \"time_variant_q\": False, \n",
    "#           \"epsilonq_std\": None}\n",
    "\n",
    "config = {\"T\": 20,\n",
    "          \"ncycles\": 3.5e7,\n",
    "          \"d0_mean\": 0.1235,\n",
    "          \"dcrit\": 16,\n",
    "          \"q_mean\": 6.4839,\n",
    "          \"q_cov\": 0.2,\n",
    "          \"time_variant_q\": True, \n",
    "          \"epsilonq_std\": 0.3242}\n",
    "struct = dynamicBN(config)\n",
    "print(struct.time_variant_q)\n",
    "print(struct.epsilonq_std)"
   ]
  },
  {
   "cell_type": "code",
   "execution_count": null,
   "id": "415c9f3d",
   "metadata": {},
   "outputs": [],
   "source": [
    "# cg_params = {\"lnC_mean\": *,\n",
    "#              \"lnC_std\": *,\n",
    "#              \"m\": *,\n",
    "#              \"Ynormal_mean\": *,\n",
    "#              \"Ynormal_cov\": *,\n",
    "#              \"nsamples\": *}\n",
    "\n",
    "cg_params = {\"lnC_mean\": -27.7903,\n",
    "             \"lnC_std\": 0.3473,\n",
    "             \"m\": 3,\n",
    "             \"Ynormal_mean\": 1,\n",
    "             \"Ynormal_cov\": 0.1,\n",
    "             \"nsamples\": 1e6}\n",
    "struct.crack_growth(cg_params)"
   ]
  },
  {
   "cell_type": "code",
   "execution_count": null,
   "id": "ad97e76a",
   "metadata": {},
   "outputs": [],
   "source": [
    "n_dstates= 30\n",
    "n_qstates = 20\n",
    "struct.transition_models(n_dstates, n_qstates)"
   ]
  },
  {
   "cell_type": "code",
   "execution_count": null,
   "id": "2eeb9788",
   "metadata": {},
   "outputs": [],
   "source": [
    "struct.Tr"
   ]
  },
  {
   "cell_type": "code",
   "execution_count": null,
   "id": "ec19373f",
   "metadata": {},
   "outputs": [],
   "source": [
    "belief0_eps = np.array([0.1, 0.25])\n",
    "# epsilon_twin = np.random.beta(2,10,(1000000,1))\n",
    "# eps_interv = np.arange(11)*0.1\n",
    "# import matplotlib.pyplot as plt\n",
    "# plt.hist(epsilon_twin,epsilon_interv)\n",
    "# belief0_eps, _ = np.histogram(epsilon_twin, eps_interv)\n",
    "# belief0_eps = belief0_eps/np.sum(belief0_eps)\n",
    "\n",
    "n_twinstates = 3\n",
    "belief0_twin = np.zeros(n_twinstates)\n",
    "belief0_twin[-1] = 1\n",
    "# No-nothing (0, 1)\n",
    "T0_twin = np.zeros((n_twinstates, n_twinstates))\n",
    "T0_twin[0,:] = np.array([0, 1, 0])\n",
    "T0_twin[1,:] = np.array([0, 1, 0])\n",
    "T0_twin[2,:] = np.array([0, 0, 1])\n",
    "\n",
    "# Repair component without install sensor (4)\n",
    "Tr_twin = np.zeros((n_twinstates, n_twinstates))\n",
    "Tr_twin[0,:] = np.array([0, 0, 1])\n",
    "Tr_twin[1,:] = np.array([0, 0, 1])\n",
    "Tr_twin[2,:] = np.array([0, 0, 1])\n",
    "\n",
    "# (Re)install sensor  (2, 3, 5)\n",
    "Ts_twin = np.zeros((n_twinstates, n_twinstates))\n",
    "Ts_twin[0,:] = np.array([1, 0, 0])\n",
    "Ts_twin[1,:] = np.array([1, 0, 0])\n",
    "Ts_twin[2,:] = np.array([1, 0, 0])\n",
    "T0_twin, Tr_twin, Ts_twin"
   ]
  },
  {
   "cell_type": "code",
   "execution_count": null,
   "id": "0355b895",
   "metadata": {},
   "outputs": [],
   "source": [
    "# obs_params = {\"inspect\": False, \n",
    "#               \"beta0\": 7.3704, \"beta1\": 2.092, \"sigma_epsilon\": 4.189, \"det_thres\": 5.4898,\n",
    "#               \"monitor\": False,\n",
    "#               \"error_std\": None}\n",
    "\n",
    "obs_params = {\"inspect\": True,\n",
    "              \"monitor\": True,\n",
    "              \"error_cov\": 0.07}\n",
    "struct.observation_models(obs_params)\n"
   ]
  },
  {
   "cell_type": "code",
   "execution_count": null,
   "id": "15780ca6",
   "metadata": {},
   "outputs": [],
   "source": [
    "np.savez_compressed('Dr203020_Tw03', q_interv=struct.q_interv, d_interv=struct.d_interv,\n",
    "         belief0=struct.b0, belief0_twin=belief0_twin, belief0_eps=belief0_eps,\n",
    "         T0=struct.T0, Tr=struct.Tr, \n",
    "         T0_twin=T0_twin, Tr_twin=Tr_twin, Ts_twin=Ts_twin, \n",
    "         O_ins=struct.O['ins'], O_monitor=struct.O['monitor'], O_ins_monitor=struct.O['ins_monitor'])"
   ]
  },
  {
   "cell_type": "code",
   "execution_count": null,
   "id": "edb354b0",
   "metadata": {},
   "outputs": [],
   "source": []
  }
 ],
 "metadata": {
  "kernelspec": {
   "display_name": "Python 3 (ipykernel)",
   "language": "python",
   "name": "python3"
  },
  "language_info": {
   "codemirror_mode": {
    "name": "ipython",
    "version": 3
   },
   "file_extension": ".py",
   "mimetype": "text/x-python",
   "name": "python",
   "nbconvert_exporter": "python",
   "pygments_lexer": "ipython3",
   "version": "3.7.15"
  }
 },
 "nbformat": 4,
 "nbformat_minor": 5
}
